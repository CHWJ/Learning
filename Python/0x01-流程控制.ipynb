{
 "cells": [
  {
   "cell_type": "markdown",
   "metadata": {},
   "source": [
    "## pass 语句"
   ]
  },
  {
   "cell_type": "markdown",
   "metadata": {},
   "source": [
    "## match 语句"
   ]
  },
  {
   "cell_type": "code",
   "execution_count": null,
   "metadata": {},
   "outputs": [],
   "source": [
    "# 将一个目标值与一个或多个字面值进行比较\n",
    "def http_error(status):\n",
    "    match status:\n",
    "        case 400:\n",
    "            return \"Bad request\"\n",
    "        # 在一个模式中可以组合多个字面值\n",
    "        case 401 | 403 | 404:\n",
    "            return \"Not allowed\"\n",
    "        case 404:\n",
    "            return \"Not found\"\n",
    "        # _ 被作为 通配符 并必定会匹配成功\n",
    "        case _:\n",
    "            return \"Something's wrong with the internet\""
   ]
  },
  {
   "cell_type": "code",
   "execution_count": 2,
   "metadata": {},
   "outputs": [
    {
     "name": "stdout",
     "output_type": "stream",
     "text": [
      "Origin\n",
      "Y=2\n",
      "X=1, Y=1\n"
     ]
    },
    {
     "ename": "ValueError",
     "evalue": "Not a point",
     "output_type": "error",
     "traceback": [
      "\u001b[1;31m---------------------------------------------------------------------------\u001b[0m",
      "\u001b[1;31mValueError\u001b[0m                                Traceback (most recent call last)",
      "\u001b[1;32md:\\Code\\Learning\\Python\\0x01-流程控制.ipynb Cell 4'\u001b[0m in \u001b[0;36m<cell line: 18>\u001b[1;34m()\u001b[0m\n\u001b[0;32m     <a href='vscode-notebook-cell:/d%3A/Code/Learning/Python/0x01-%E6%B5%81%E7%A8%8B%E6%8E%A7%E5%88%B6.ipynb#ch0000003?line=15'>16</a>\u001b[0m cmp((\u001b[39m0\u001b[39m,\u001b[39m2\u001b[39m))\n\u001b[0;32m     <a href='vscode-notebook-cell:/d%3A/Code/Learning/Python/0x01-%E6%B5%81%E7%A8%8B%E6%8E%A7%E5%88%B6.ipynb#ch0000003?line=16'>17</a>\u001b[0m cmp((\u001b[39m1\u001b[39m,\u001b[39m1\u001b[39m))\n\u001b[1;32m---> <a href='vscode-notebook-cell:/d%3A/Code/Learning/Python/0x01-%E6%B5%81%E7%A8%8B%E6%8E%A7%E5%88%B6.ipynb#ch0000003?line=17'>18</a>\u001b[0m cmp((\u001b[39m1\u001b[39;49m,\u001b[39m1\u001b[39;49m,\u001b[39m1\u001b[39;49m))\n",
      "\u001b[1;32md:\\Code\\Learning\\Python\\0x01-流程控制.ipynb Cell 4'\u001b[0m in \u001b[0;36mcmp\u001b[1;34m(point)\u001b[0m\n\u001b[0;32m      <a href='vscode-notebook-cell:/d%3A/Code/Learning/Python/0x01-%E6%B5%81%E7%A8%8B%E6%8E%A7%E5%88%B6.ipynb#ch0000003?line=1'>2</a>\u001b[0m \u001b[39mdef\u001b[39;00m \u001b[39mcmp\u001b[39m(point):\n\u001b[0;32m      <a href='vscode-notebook-cell:/d%3A/Code/Learning/Python/0x01-%E6%B5%81%E7%A8%8B%E6%8E%A7%E5%88%B6.ipynb#ch0000003?line=2'>3</a>\u001b[0m     \u001b[39mmatch\u001b[39;00m point:\n\u001b[0;32m      <a href='vscode-notebook-cell:/d%3A/Code/Learning/Python/0x01-%E6%B5%81%E7%A8%8B%E6%8E%A7%E5%88%B6.ipynb#ch0000003?line=3'>4</a>\u001b[0m         \u001b[39mcase\u001b[39;00m (\u001b[39m0\u001b[39m, \u001b[39m0\u001b[39m):\n\u001b[0;32m      <a href='vscode-notebook-cell:/d%3A/Code/Learning/Python/0x01-%E6%B5%81%E7%A8%8B%E6%8E%A7%E5%88%B6.ipynb#ch0000003?line=4'>5</a>\u001b[0m             \u001b[39mprint\u001b[39m(\u001b[39m\"\u001b[39m\u001b[39mOrigin\u001b[39m\u001b[39m\"\u001b[39m)\n\u001b[0;32m      <a href='vscode-notebook-cell:/d%3A/Code/Learning/Python/0x01-%E6%B5%81%E7%A8%8B%E6%8E%A7%E5%88%B6.ipynb#ch0000003?line=5'>6</a>\u001b[0m         \u001b[39mcase\u001b[39;00m (\u001b[39m0\u001b[39m, y):\n\u001b[0;32m      <a href='vscode-notebook-cell:/d%3A/Code/Learning/Python/0x01-%E6%B5%81%E7%A8%8B%E6%8E%A7%E5%88%B6.ipynb#ch0000003?line=6'>7</a>\u001b[0m             \u001b[39mprint\u001b[39m(\u001b[39mf\u001b[39m\u001b[39m\"\u001b[39m\u001b[39mY=\u001b[39m\u001b[39m{\u001b[39;00my\u001b[39m}\u001b[39;00m\u001b[39m\"\u001b[39m)\n\u001b[0;32m      <a href='vscode-notebook-cell:/d%3A/Code/Learning/Python/0x01-%E6%B5%81%E7%A8%8B%E6%8E%A7%E5%88%B6.ipynb#ch0000003?line=7'>8</a>\u001b[0m         \u001b[39mcase\u001b[39;00m (x, \u001b[39m0\u001b[39m):\n\u001b[0;32m      <a href='vscode-notebook-cell:/d%3A/Code/Learning/Python/0x01-%E6%B5%81%E7%A8%8B%E6%8E%A7%E5%88%B6.ipynb#ch0000003?line=8'>9</a>\u001b[0m             \u001b[39mprint\u001b[39m(\u001b[39mf\u001b[39m\u001b[39m\"\u001b[39m\u001b[39mX=\u001b[39m\u001b[39m{\u001b[39;00mx\u001b[39m}\u001b[39;00m\u001b[39m\"\u001b[39m)\n\u001b[0;32m     <a href='vscode-notebook-cell:/d%3A/Code/Learning/Python/0x01-%E6%B5%81%E7%A8%8B%E6%8E%A7%E5%88%B6.ipynb#ch0000003?line=9'>10</a>\u001b[0m         \u001b[39mcase\u001b[39;00m (x, y):\n\u001b[0;32m     <a href='vscode-notebook-cell:/d%3A/Code/Learning/Python/0x01-%E6%B5%81%E7%A8%8B%E6%8E%A7%E5%88%B6.ipynb#ch0000003?line=10'>11</a>\u001b[0m             \u001b[39mprint\u001b[39m(\u001b[39mf\u001b[39m\u001b[39m\"\u001b[39m\u001b[39mX=\u001b[39m\u001b[39m{\u001b[39;00mx\u001b[39m}\u001b[39;00m\u001b[39m, Y=\u001b[39m\u001b[39m{\u001b[39;00my\u001b[39m}\u001b[39;00m\u001b[39m\"\u001b[39m)\n\u001b[0;32m     <a href='vscode-notebook-cell:/d%3A/Code/Learning/Python/0x01-%E6%B5%81%E7%A8%8B%E6%8E%A7%E5%88%B6.ipynb#ch0000003?line=11'>12</a>\u001b[0m         \u001b[39mcase\u001b[39;00m \u001b[39m_\u001b[39;00m:\n\u001b[1;32m---> <a href='vscode-notebook-cell:/d%3A/Code/Learning/Python/0x01-%E6%B5%81%E7%A8%8B%E6%8E%A7%E5%88%B6.ipynb#ch0000003?line=12'>13</a>\u001b[0m             \u001b[39mraise\u001b[39;00m \u001b[39mValueError\u001b[39;00m(\u001b[39m\"\u001b[39m\u001b[39mNot a point\u001b[39m\u001b[39m\"\u001b[39m)\n",
      "\u001b[1;31mValueError\u001b[0m: Not a point"
     ]
    }
   ],
   "source": [
    "# point is an (x, y) tuple\n",
    "def cmp(point):\n",
    "    match point:\n",
    "        case (0, 0):\n",
    "            print(\"Origin\")\n",
    "        case (0, y):\n",
    "            print(f\"Y={y}\")\n",
    "        case (x, 0):\n",
    "            print(f\"X={x}\")\n",
    "        case (x, y):\n",
    "            print(f\"X={x}, Y={y}\")\n",
    "        case _:\n",
    "            raise ValueError(\"Not a point\")\n",
    "\n",
    "cmp((0,0))  # match (0, 0)\n",
    "cmp((0,2))  # match (0, y)\n",
    "cmp((1,1))  # match (x, y)\n",
    "cmp((1,1,1))    # match _"
   ]
  }
 ],
 "metadata": {
  "interpreter": {
   "hash": "607db476e417971f05b607c2dd14e77ee8262c2c4c20dea422522c60605a222a"
  },
  "kernelspec": {
   "display_name": "Python 3.10.4 64-bit",
   "language": "python",
   "name": "python3"
  },
  "language_info": {
   "codemirror_mode": {
    "name": "ipython",
    "version": 3
   },
   "file_extension": ".py",
   "mimetype": "text/x-python",
   "name": "python",
   "nbconvert_exporter": "python",
   "pygments_lexer": "ipython3",
   "version": "3.10.4"
  },
  "orig_nbformat": 4
 },
 "nbformat": 4,
 "nbformat_minor": 2
}
